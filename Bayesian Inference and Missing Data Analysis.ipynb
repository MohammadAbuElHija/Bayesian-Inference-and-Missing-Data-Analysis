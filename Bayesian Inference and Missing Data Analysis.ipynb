{
  "nbformat": 4,
  "nbformat_minor": 0,
  "metadata": {
    "colab": {
      "provenance": []
    },
    "kernelspec": {
      "name": "python3",
      "display_name": "Python 3"
    },
    "language_info": {
      "name": "python"
    }
  },
  "cells": [
    {
      "cell_type": "code",
      "execution_count": null,
      "metadata": {
        "id": "VB39foumLSMk"
      },
      "outputs": [],
      "source": [
        "import pandas as pd\n",
        "import numpy as np\n",
        "import seaborn as sns\n",
        "import matplotlib.pyplot as plt\n",
        "import math\n",
        "from scipy.stats import norm\n",
        "import scipy.stats as stats\n",
        "import statsmodels.api as sm\n",
        "import random\n",
        "from sklearn.linear_model import LinearRegression, LogisticRegression\n",
        "from tabulate import tabulate\n",
        "import pylab"
      ]
    },
    {
      "cell_type": "code",
      "source": [
        "df = pd.read_csv('/content/cleaned_data.csv') #cleaned_data.csv is the df that we worked with it in the first project after we did the transformation\n",
        "df.columns"
      ],
      "metadata": {
        "colab": {
          "base_uri": "https://localhost:8080/"
        },
        "id": "gUc4cud3Litq",
        "outputId": "5c14e982-6860-4929-c19f-6f117886a424"
      },
      "execution_count": null,
      "outputs": [
        {
          "output_type": "execute_result",
          "data": {
            "text/plain": [
              "Index(['Application order', 'Daytime/evening attendance', 'Age at enrollment',\n",
              "       'Curricular units 1st sem (credited)',\n",
              "       'Curricular units 1st sem (enrolled)',\n",
              "       'Curricular units 1st sem (evaluations)',\n",
              "       'Curricular units 1st sem (approved)',\n",
              "       'Curricular units 1st sem (grade)',\n",
              "       'Curricular units 1st sem (without evaluations)',\n",
              "       'Curricular units 2nd sem (credited)',\n",
              "       'Curricular units 2nd sem (enrolled)',\n",
              "       'Curricular units 2nd sem (evaluations)',\n",
              "       'Curricular units 2nd sem (approved)',\n",
              "       'Curricular units 2nd sem (grade)',\n",
              "       'Curricular units 2nd sem (without evaluations)', 'Unemployment rate',\n",
              "       'Inflation rate', 'GDP', 'Target', 'Marital status', 'Application mode',\n",
              "       'Course', 'Previous qualification', 'Nacionality',\n",
              "       'Mother's qualification', 'Father's qualification',\n",
              "       'Mother's occupation', 'Father's occupation', 'Displaced',\n",
              "       'Educational special needs', 'Debtor', 'Tuition fees up to date',\n",
              "       'Scholarship holder', 'International', 'Gender'],\n",
              "      dtype='object')"
            ]
          },
          "metadata": {},
          "execution_count": 2
        }
      ]
    },
    {
      "cell_type": "markdown",
      "source": [
        "Our Test Question: does the first semester grade different among Male and Female?"
      ],
      "metadata": {
        "id": "D37jm5hiLoP9"
      }
    },
    {
      "cell_type": "markdown",
      "source": [
        "Part A:"
      ],
      "metadata": {
        "id": "hetmST4LLvyy"
      }
    },
    {
      "cell_type": "markdown",
      "source": [
        "1)"
      ],
      "metadata": {
        "id": "iseBgrqbLseM"
      }
    },
    {
      "cell_type": "code",
      "source": [
        "categorical_variable = \"Gender\"\n",
        "continuous_variable = \"Curricular units 1st sem (grade)\"\n",
        "categorical_values = [\"Female\",\"Male\"]\n",
        "\n",
        "relevant_df = df[[categorical_variable, continuous_variable]]"
      ],
      "metadata": {
        "id": "Zye1VEY7Ln35"
      },
      "execution_count": null,
      "outputs": []
    },
    {
      "cell_type": "code",
      "source": [
        "np.random.seed(1)\n",
        "observed_data = relevant_df.sample(n=200)\n",
        "past_data = relevant_df.drop(list(observed_data.index)).sample(n=1000)"
      ],
      "metadata": {
        "id": "cApTlUAtMDM1"
      },
      "execution_count": null,
      "outputs": []
    },
    {
      "cell_type": "markdown",
      "source": [
        "2)"
      ],
      "metadata": {
        "id": "SlWZ7uVkMQP-"
      }
    },
    {
      "cell_type": "markdown",
      "source": [
        "a."
      ],
      "metadata": {
        "id": "N3NCjAqiMScP"
      }
    },
    {
      "cell_type": "code",
      "source": [
        "tau = observed_data[\"Curricular units 1st sem (grade)\"].quantile(0.5)\n",
        "observed_data['Z'] = (observed_data[\"Curricular units 1st sem (grade)\"] > tau).astype(int)\n",
        "past_data['Z'] = (past_data[\"Curricular units 1st sem (grade)\"] > tau).astype(int)\n",
        "CIs={}"
      ],
      "metadata": {
        "id": "1knV3LO3MEuZ"
      },
      "execution_count": null,
      "outputs": []
    },
    {
      "cell_type": "code",
      "source": [
        "def ita(p):\n",
        "    return math.log(p / (1 - p))\n",
        "\n",
        "p_Female_hat = observed_data[observed_data[\"Gender\"] == \"Female\"][\"Z\"].mean()\n",
        "p_Male_hat = observed_data[observed_data[\"Gender\"] == \"Male\"][\"Z\"].mean()\n",
        "\n",
        "psi = ita(p_Male_hat) - ita(p_Female_hat)\n",
        "print(\"psi estimated:\", psi)\n",
        "\n",
        "\n",
        "#Calculate CI for psi\n",
        "alpha = 0.05\n",
        "quantile = stats.norm.ppf(1- alpha/2)\n",
        "B = 400\n",
        "sum_boots = 0\n",
        "square_boots = 0\n",
        "for iteration in range(B):\n",
        "    boot_df = observed_data.sample(200, replace=True)\n",
        "\n",
        "    p_Female_hat_iteration = boot_df[boot_df[\"Gender\"] == \"Female\"][\"Z\"].mean()\n",
        "    p_Male_hat_iteration = boot_df[boot_df[\"Gender\"] == \"Male\"][\"Z\"].mean()\n",
        "    psi_iteration = ita(p_Male_hat_iteration) - ita(p_Female_hat_iteration)\n",
        "\n",
        "    sum_boots += psi_iteration\n",
        "    square_boots += psi_iteration ** 2\n",
        "\n",
        "se_boot = ((square_boots / B) - ((sum_boots / B ) ** 2)) ** 0.5\n",
        "\n",
        "cis_boot = [psi - quantile * se_boot, psi + quantile * se_boot] ## noraml approximation is used to calculate te CI\n",
        "CIs['a'] = cis_boot\n",
        "print(\"Confidence Interval for psi:\", cis_boot)"
      ],
      "metadata": {
        "colab": {
          "base_uri": "https://localhost:8080/"
        },
        "id": "UiPd10GUMhKN",
        "outputId": "885ee4b3-bfc2-49a8-bdf2-d901f3c343f3"
      },
      "execution_count": null,
      "outputs": [
        {
          "output_type": "stream",
          "name": "stdout",
          "text": [
            "psi estimated: -0.517256514096281\n",
            "Confidence Interval for psi: [-1.1333435234294926, 0.09883049523693066]\n"
          ]
        }
      ]
    },
    {
      "cell_type": "markdown",
      "source": [
        "b.\n",
        "\n",
        "\n",
        "We saw in the lecture that assuming the prior of  $P_{Female}$,$P_{Male}$\n",
        "  is from a standard uniform distrbution then:\n",
        "\n",
        "$P_{Female}$\n",
        "  |  $Z_{Female}$\n",
        "  ~ Beta( $S_{ Z_{Female}}$+ 1,  $n_{Female}$ - $S_{ Z_{Female}}$+ 1)\n",
        "\n",
        "$P_{Male}$\n",
        "  |  $Z_{Male}$\n",
        "  ~ Beta( $S_{ Z_{Male}}$+ 1, $n_{Male}$ - $S_{ Z_{Male}}$+ 1)"
      ],
      "metadata": {
        "id": "JRHAGJllMuMU"
      }
    },
    {
      "cell_type": "code",
      "source": [
        "S_Z_Female = observed_data[observed_data[\"Gender\"] == \"Female\"][\"Z\"].sum()\n",
        "S_Z_Male = observed_data[observed_data[\"Gender\"] == \"Male\"][\"Z\"].sum()\n",
        "\n",
        "n_Female = len(observed_data[observed_data[\"Gender\"] == \"Female\"])\n",
        "n_Male = len(observed_data[observed_data[\"Gender\"] == \"Male\"])\n",
        "\n",
        "# Posterior estimator for parameter is the posterior expectation and since the posterior\n",
        "# distribution is beta\n",
        "post_Female_hat = (S_Z_Female + 1) / (n_Female  + 2)\n",
        "post_Male_hat = (S_Z_Male + 1) / (n_Male  + 2)\n",
        "\n",
        "#calculate estimator for psi\n",
        "post_psi_hat = ita(post_Male_hat) - ita(post_Female_hat)\n",
        "print(\"psi estimated:\", post_psi_hat)\n",
        "\n",
        "# Posterior Credible Interval for parameter can be calculated using boostrap quantiles\n",
        "boot_p_Female = np.random.beta(S_Z_Female + 1, n_Female - S_Z_Female + 1, size=B)\n",
        "boot_p_Male = np.random.beta(S_Z_Male + 1, n_Male - S_Z_Male + 1, size=B)\n",
        "\n",
        "boot_psis = [ita(p1) - ita(p2) for p1, p2 in zip(boot_p_Male, boot_p_Female)]\n",
        "boot_psis.sort()\n",
        "psi_CI = [boot_psis[int(B * alpha/2)], boot_psis[int(B * (1-alpha /2))]]\n",
        "CIs['b'] = psi_CI\n",
        "print(\"Credible Interval for psi:\", psi_CI)"
      ],
      "metadata": {
        "colab": {
          "base_uri": "https://localhost:8080/"
        },
        "id": "q_bELcbsMm7i",
        "outputId": "cecf2e5c-42fb-40c3-e2b7-aa9176aec3c5"
      },
      "execution_count": null,
      "outputs": [
        {
          "output_type": "stream",
          "name": "stdout",
          "text": [
            "psi estimated: -0.5039996586955908\n",
            "Credible Interval for psi: [-1.0514792528130912, 0.11859247497217626]\n"
          ]
        }
      ]
    },
    {
      "cell_type": "markdown",
      "source": [
        "c."
      ],
      "metadata": {
        "id": "ijgzwqulNBZn"
      }
    },
    {
      "cell_type": "markdown",
      "source": [
        "We know that  $Z_{1}$,$Z_{2}$,...,$Z_{n}$\n",
        "  ~ Ber(p), and we saw in class that jefferys prior is  π(p)=$\\sqrt{\\frac{1}{p(1−p)}}$\n",
        "\n",
        "We want to find the posterior of  $P_{i}$|$Z^{n}$\n",
        "  for  i∈{Female,Male}\n",
        "\n",
        "f(p|$Z^{n})∝Ln(p)∗π(p)=$$p^{s}$$(1−p)^{n−s}$∗$\\sqrt{\\frac{1}{p(1−p)}}$ = $p^{s-0.5}$$(1−p)^{n−s-0.5}$\n",
        "\n",
        "Thus, we conclude that:\n",
        "\n",
        "$P_{i}$|$Z^{n}$\n",
        "  ~ Beta( $s_{i}$+ 0.5, n−$s_{i}$+ 0.5)"
      ],
      "metadata": {
        "id": "D835FSV6NJq_"
      }
    },
    {
      "cell_type": "code",
      "source": [
        "# Posterior estimator for parameter is the posterior expectation and since the posterior\n",
        "#distribution is beta\n",
        "post_Female_hat = (S_Z_Female + 0.5) / (n_Female  + 1)\n",
        "post_Male_hat = (S_Z_Male + 0.5) / (n_Male + 1)\n",
        "\n",
        "#calculate estimator for psi\n",
        "post_psi_hat = ita(post_Male_hat) - ita(post_Female_hat)\n",
        "print(\"psi estimated:\", post_psi_hat)\n",
        "\n",
        "# Posterior Credible Interval for parameter can be calculated using boostrap quantiles\n",
        "boot_p_Feamle = np.random.beta(S_Z_Female + 0.5, n_Female - S_Z_Female + 0.5, size=B)\n",
        "boot_p_Male = np.random.beta(S_Z_Male + 0.5, n_Male - S_Z_Male + 0.5, size=B)\n",
        "\n",
        "boot_psis = [ita(p1) - ita(p2) for p1, p2 in zip(boot_p_Male, boot_p_Feamle)]\n",
        "boot_psis.sort()\n",
        "psi_CI = [boot_psis[int(B * alpha/2)], boot_psis[int(B * (1 - alpha/2))]]\n",
        "CIs['c'] = psi_CI\n",
        "print(\"Credible Interval for psi:\", psi_CI)"
      ],
      "metadata": {
        "colab": {
          "base_uri": "https://localhost:8080/"
        },
        "id": "vkAhA7T1NCFw",
        "outputId": "b4e6aadd-54ea-40ba-b1e9-6ed38db3f1fb"
      },
      "execution_count": null,
      "outputs": [
        {
          "output_type": "stream",
          "name": "stdout",
          "text": [
            "psi estimated: -0.5105346723528241\n",
            "Credible Interval for psi: [-1.0897371890496401, 0.13499080682698708]\n"
          ]
        }
      ]
    },
    {
      "cell_type": "markdown",
      "source": [
        "d."
      ],
      "metadata": {
        "id": "4XPKiyHhNRjL"
      }
    },
    {
      "cell_type": "markdown",
      "source": [
        "We will assume that the prior of  $P_{Female}$,$P_{Male}$\n",
        "  \n",
        "  is from a Beta(α,β) distrbution then the posterior for past data is distrbutied beta with the following parameters:\n",
        "\n",
        "f(p|$Z^{n}$)∝Ln(p)∗π(p)=$p^{s}$$(1−p)^{n−s}$∗$p^{α−1}$$(1−p)^{β−1}$=$p^{s+α−1}$$(1−p)^{n−s+β−1}$\n",
        "\n",
        "p\n",
        "  |  $Z^{n}$\n",
        "  ~ Beta(s+α , n-s+β)"
      ],
      "metadata": {
        "id": "IALem7ImNUXN"
      }
    },
    {
      "cell_type": "code",
      "source": [
        "\n",
        "def fit_beta_with_bounds(data):\n",
        "\n",
        "    data = np.asarray(data)\n",
        "\n",
        "    data = np.clip(data, 1e-6, 1 - 1e-6)\n",
        "\n",
        "\n",
        "    a, b, loc, scale = stats.beta.fit(data, floc=0, fscale=1)\n",
        "\n",
        "    return a, b, loc, scale\n",
        "\n",
        "\n",
        "\n",
        "\n",
        "a_prior_Female, b_prior_Female, _,_ = fit_beta_with_bounds(past_data[past_data[\"Gender\"] == \"Female\"][\"Z\"])\n",
        "a_prior_Male, b_prior_Male, _,_ = fit_beta_with_bounds(past_data[past_data[\"Gender\"] == \"Male\"][\"Z\"])\n",
        "\n",
        "\n",
        "S_past_Z_Female = past_data[past_data[\"Gender\"] == \"Female\"][\"Z\"].sum()\n",
        "S_past_Z_Male = past_data[past_data[\"Gender\"] == \"Male\"][\"Z\"].sum()\n",
        "\n",
        "n_past_Female = len(past_data[past_data[\"Gender\"] == \"Female\"])\n",
        "n_past_Male = len(past_data[past_data[\"Gender\"] == \"Male\"])\n",
        "\n",
        "# Posterior estimator for parameter is the posterior expectation\n",
        "post_past_p_Female_hat= (S_past_Z_Female + a_prior_Female) / (a_prior_Female + n_past_Female  + b_prior_Female)\n",
        "post_past_p_Male_hat = (S_past_Z_Male + a_prior_Male) / (a_prior_Male + n_past_Male  + b_prior_Male)\n",
        "\n",
        "#calculate estimator for psi\n",
        "post_past_psi_hat = ita(post_past_p_Male_hat) - ita(post_past_p_Female_hat)\n",
        "print(\"psi estimator for past data:\", post_past_psi_hat)\n",
        "\n",
        "# Posterior Credible Interval for parameter can be calculated using boostrap quantiles\n",
        "boot_past_p_Female = np.random.beta(S_past_Z_Female + a_prior_Female, n_past_Female - S_past_Z_Female + b_prior_Female, size=B)\n",
        "boot_past_p_Male = np.random.beta(S_past_Z_Male + a_prior_Male, n_past_Male - S_past_Z_Male + b_prior_Male, size=B)\n",
        "\n",
        "boot_past_psis = [ita(p1) - ita(p2) for p1, p2 in zip(boot_past_p_Male, boot_past_p_Female)]\n",
        "boot_past_psis.sort()\n",
        "psi_past_CI = [boot_past_psis[int(B * alpha/2)], boot_past_psis[int(B * (1- alpha/2))]]\n",
        "CIs['d'] = psi_past_CI\n",
        "print(\"Credible Interval for psi for past data:\", psi_past_CI)"
      ],
      "metadata": {
        "colab": {
          "base_uri": "https://localhost:8080/"
        },
        "id": "aH1E7ZlMNN3D",
        "outputId": "2a1a5707-4b90-47a8-c441-979a73171ae6"
      },
      "execution_count": null,
      "outputs": [
        {
          "output_type": "stream",
          "name": "stdout",
          "text": [
            "psi estimator for past data: -0.6834708798888547\n",
            "Credible Interval for psi for past data: [-0.9701334090835126, -0.4288590271963101]\n"
          ]
        }
      ]
    },
    {
      "cell_type": "markdown",
      "source": [
        "e."
      ],
      "metadata": {
        "id": "Fv1389z-QV_S"
      }
    },
    {
      "cell_type": "code",
      "source": [
        "for key, y in zip(CIs.keys(), [k for k in range(len(CIs))]):\n",
        "  plt.plot((CIs[key][0], CIs[key][1]), (y,y), 'ro-', color = \"black\")\n",
        "plt.yticks([k for k in range(len(CIs))], [\"a\", \"b\", \"c\", \"d\"])\n",
        "plt.xlabel(\"values\")\n",
        "plt.ylabel(\"question\")\n",
        "plt.title(\"CI of each part in Q2\")\n",
        "plt.show()"
      ],
      "metadata": {
        "colab": {
          "base_uri": "https://localhost:8080/",
          "height": 528
        },
        "id": "Feaa_IsVNch5",
        "outputId": "09e20a6c-917d-4eee-d5e8-681f72682266"
      },
      "execution_count": null,
      "outputs": [
        {
          "output_type": "stream",
          "name": "stderr",
          "text": [
            "<ipython-input-10-2e066f5ba224>:2: UserWarning: color is redundantly defined by the 'color' keyword argument and the fmt string \"ro-\" (-> color='r'). The keyword argument will take precedence.\n",
            "  plt.plot((CIs[key][0], CIs[key][1]), (y,y), 'ro-', color = \"black\")\n"
          ]
        },
        {
          "output_type": "display_data",
          "data": {
            "text/plain": [
              "<Figure size 640x480 with 1 Axes>"
            ],
            "image/png": "[encoded data removed]"
          },
          "metadata": {}
        }
      ]
    },
    {
      "cell_type": "markdown",
      "source": [
        "explanation of the graph + comparison between estimated values of psi:\n",
        "\n",
        "notice that we got in 'd' the shortest confidence interval that makes sense ,since in 'd' we use information from past knowledge on the data as a result we get more accurate results and the confidence interval is supposed to be shorten. In addition, as we can see that in 'a-c' we got wider confidence intervals and their lengths are overall similar one to another and their interval is overall similar. In addition we notice that the estimated values we got in 'a-c' are very close to one another while in 'd' we got a completely different value that makes sense since the interval of the confiedence interval we got in 'd' contains the heighest values compared to the other intervals we got in 'a-c'."
      ],
      "metadata": {
        "id": "0n8TaxSSQgS9"
      }
    },
    {
      "cell_type": "markdown",
      "source": [
        "**Part B:**"
      ],
      "metadata": {
        "id": "EFsQC-tfROWp"
      }
    },
    {
      "cell_type": "markdown",
      "source": [
        "We chose the following dependent and explantory variables:\n",
        "\n",
        "explantory variables:\n",
        "\n",
        "1.Curricular units 1st sem (grade)(continuous)\n",
        "\n",
        "\n",
        "dependent variable: Curricular units 2nd sem (grade)"
      ],
      "metadata": {
        "id": "VOdlLgJ-SjPx"
      }
    },
    {
      "cell_type": "code",
      "source": [
        "np.random.seed(1)\n",
        "sampled_data = df.dropna().sample(n=1000).reset_index()\n",
        "sampled_data['Gender'].replace('Female', 1,inplace=True)\n",
        "sampled_data['Gender'].replace('Male', 0,inplace=True)\n",
        "sampled_data.isna().sum()"
      ],
      "metadata": {
        "colab": {
          "base_uri": "https://localhost:8080/",
          "height": 1000
        },
        "id": "iqVdDaFnO7FB",
        "outputId": "264eadb2-8200-460d-e507-ba4c6f80f066"
      },
      "execution_count": null,
      "outputs": [
        {
          "output_type": "stream",
          "name": "stderr",
          "text": [
            "<ipython-input-11-15da535f0d8a>:3: FutureWarning: A value is trying to be set on a copy of a DataFrame or Series through chained assignment using an inplace method.\n",
            "The behavior will change in pandas 3.0. This inplace method will never work because the intermediate object on which we are setting values always behaves as a copy.\n",
            "\n",
            "For example, when doing 'df[col].method(value, inplace=True)', try using 'df.method({col: value}, inplace=True)' or df[col] = df[col].method(value) instead, to perform the operation inplace on the original object.\n",
            "\n",
            "\n",
            "  sampled_data['Gender'].replace('Female', 1,inplace=True)\n",
            "<ipython-input-11-15da535f0d8a>:4: FutureWarning: A value is trying to be set on a copy of a DataFrame or Series through chained assignment using an inplace method.\n",
            "The behavior will change in pandas 3.0. This inplace method will never work because the intermediate object on which we are setting values always behaves as a copy.\n",
            "\n",
            "For example, when doing 'df[col].method(value, inplace=True)', try using 'df.method({col: value}, inplace=True)' or df[col] = df[col].method(value) instead, to perform the operation inplace on the original object.\n",
            "\n",
            "\n",
            "  sampled_data['Gender'].replace('Male', 0,inplace=True)\n",
            "<ipython-input-11-15da535f0d8a>:4: FutureWarning: Downcasting behavior in `replace` is deprecated and will be removed in a future version. To retain the old behavior, explicitly call `result.infer_objects(copy=False)`. To opt-in to the future behavior, set `pd.set_option('future.no_silent_downcasting', True)`\n",
            "  sampled_data['Gender'].replace('Male', 0,inplace=True)\n"
          ]
        },
        {
          "output_type": "execute_result",
          "data": {
            "text/plain": [
              "index                                             0\n",
              "Application order                                 0\n",
              "Daytime/evening attendance                        0\n",
              "Age at enrollment                                 0\n",
              "Curricular units 1st sem (credited)               0\n",
              "Curricular units 1st sem (enrolled)               0\n",
              "Curricular units 1st sem (evaluations)            0\n",
              "Curricular units 1st sem (approved)               0\n",
              "Curricular units 1st sem (grade)                  0\n",
              "Curricular units 1st sem (without evaluations)    0\n",
              "Curricular units 2nd sem (credited)               0\n",
              "Curricular units 2nd sem (enrolled)               0\n",
              "Curricular units 2nd sem (evaluations)            0\n",
              "Curricular units 2nd sem (approved)               0\n",
              "Curricular units 2nd sem (grade)                  0\n",
              "Curricular units 2nd sem (without evaluations)    0\n",
              "Unemployment rate                                 0\n",
              "Inflation rate                                    0\n",
              "GDP                                               0\n",
              "Target                                            0\n",
              "Marital status                                    0\n",
              "Application mode                                  0\n",
              "Course                                            0\n",
              "Previous qualification                            0\n",
              "Nacionality                                       0\n",
              "Mother's qualification                            0\n",
              "Father's qualification                            0\n",
              "Mother's occupation                               0\n",
              "Father's occupation                               0\n",
              "Displaced                                         0\n",
              "Educational special needs                         0\n",
              "Debtor                                            0\n",
              "Tuition fees up to date                           0\n",
              "Scholarship holder                                0\n",
              "International                                     0\n",
              "Gender                                            0\n",
              "dtype: int64"
            ],
            "text/html": [
              "<div>\n",
              "<style scoped>\n",
              "    .dataframe tbody tr th:only-of-type {\n",
              "        vertical-align: middle;\n",
              "    }\n",
              "\n",
              "    .dataframe tbody tr th {\n",
              "        vertical-align: top;\n",
              "    }\n",
              "\n",
              "    .dataframe thead th {\n",
              "        text-align: right;\n",
              "    }\n",
              "</style>\n",
              "<table border=\"1\" class=\"dataframe\">\n",
              "  <thead>\n",
              "    <tr style=\"text-align: right;\">\n",
              "      <th></th>\n",
              "      <th>0</th>\n",
              "    </tr>\n",
              "  </thead>\n",
              "  <tbody>\n",
              "    <tr>\n",
              "      <th>index</th>\n",
              "      <td>0</td>\n",
              "    </tr>\n",
              "    <tr>\n",
              "      <th>Application order</th>\n",
              "      <td>0</td>\n",
              "    </tr>\n",
              "    <tr>\n",
              "      <th>Daytime/evening attendance</th>\n",
              "      <td>0</td>\n",
              "    </tr>\n",
              "    <tr>\n",
              "      <th>Age at enrollment</th>\n",
              "      <td>0</td>\n",
              "    </tr>\n",
              "    <tr>\n",
              "      <th>Curricular units 1st sem (credited)</th>\n",
              "      <td>0</td>\n",
              "    </tr>\n",
              "    <tr>\n",
              "      <th>Curricular units 1st sem (enrolled)</th>\n",
              "      <td>0</td>\n",
              "    </tr>\n",
              "    <tr>\n",
              "      <th>Curricular units 1st sem (evaluations)</th>\n",
              "      <td>0</td>\n",
              "    </tr>\n",
              "    <tr>\n",
              "      <th>Curricular units 1st sem (approved)</th>\n",
              "      <td>0</td>\n",
              "    </tr>\n",
              "    <tr>\n",
              "      <th>Curricular units 1st sem (grade)</th>\n",
              "      <td>0</td>\n",
              "    </tr>\n",
              "    <tr>\n",
              "      <th>Curricular units 1st sem (without evaluations)</th>\n",
              "      <td>0</td>\n",
              "    </tr>\n",
              "    <tr>\n",
              "      <th>Curricular units 2nd sem (credited)</th>\n",
              "      <td>0</td>\n",
              "    </tr>\n",
              "    <tr>\n",
              "      <th>Curricular units 2nd sem (enrolled)</th>\n",
              "      <td>0</td>\n",
              "    </tr>\n",
              "    <tr>\n",
              "      <th>Curricular units 2nd sem (evaluations)</th>\n",
              "      <td>0</td>\n",
              "    </tr>\n",
              "    <tr>\n",
              "      <th>Curricular units 2nd sem (approved)</th>\n",
              "      <td>0</td>\n",
              "    </tr>\n",
              "    <tr>\n",
              "      <th>Curricular units 2nd sem (grade)</th>\n",
              "      <td>0</td>\n",
              "    </tr>\n",
              "    <tr>\n",
              "      <th>Curricular units 2nd sem (without evaluations)</th>\n",
              "      <td>0</td>\n",
              "    </tr>\n",
              "    <tr>\n",
              "      <th>Unemployment rate</th>\n",
              "      <td>0</td>\n",
              "    </tr>\n",
              "    <tr>\n",
              "      <th>Inflation rate</th>\n",
              "      <td>0</td>\n",
              "    </tr>\n",
              "    <tr>\n",
              "      <th>GDP</th>\n",
              "      <td>0</td>\n",
              "    </tr>\n",
              "    <tr>\n",
              "      <th>Target</th>\n",
              "      <td>0</td>\n",
              "    </tr>\n",
              "    <tr>\n",
              "      <th>Marital status</th>\n",
              "      <td>0</td>\n",
              "    </tr>\n",
              "    <tr>\n",
              "      <th>Application mode</th>\n",
              "      <td>0</td>\n",
              "    </tr>\n",
              "    <tr>\n",
              "      <th>Course</th>\n",
              "      <td>0</td>\n",
              "    </tr>\n",
              "    <tr>\n",
              "      <th>Previous qualification</th>\n",
              "      <td>0</td>\n",
              "    </tr>\n",
              "    <tr>\n",
              "      <th>Nacionality</th>\n",
              "      <td>0</td>\n",
              "    </tr>\n",
              "    <tr>\n",
              "      <th>Mother's qualification</th>\n",
              "      <td>0</td>\n",
              "    </tr>\n",
              "    <tr>\n",
              "      <th>Father's qualification</th>\n",
              "      <td>0</td>\n",
              "    </tr>\n",
              "    <tr>\n",
              "      <th>Mother's occupation</th>\n",
              "      <td>0</td>\n",
              "    </tr>\n",
              "    <tr>\n",
              "      <th>Father's occupation</th>\n",
              "      <td>0</td>\n",
              "    </tr>\n",
              "    <tr>\n",
              "      <th>Displaced</th>\n",
              "      <td>0</td>\n",
              "    </tr>\n",
              "    <tr>\n",
              "      <th>Educational special needs</th>\n",
              "      <td>0</td>\n",
              "    </tr>\n",
              "    <tr>\n",
              "      <th>Debtor</th>\n",
              "      <td>0</td>\n",
              "    </tr>\n",
              "    <tr>\n",
              "      <th>Tuition fees up to date</th>\n",
              "      <td>0</td>\n",
              "    </tr>\n",
              "    <tr>\n",
              "      <th>Scholarship holder</th>\n",
              "      <td>0</td>\n",
              "    </tr>\n",
              "    <tr>\n",
              "      <th>International</th>\n",
              "      <td>0</td>\n",
              "    </tr>\n",
              "    <tr>\n",
              "      <th>Gender</th>\n",
              "      <td>0</td>\n",
              "    </tr>\n",
              "  </tbody>\n",
              "</table>\n",
              "</div><br><label><b>dtype:</b> int64</label>"
            ]
          },
          "metadata": {},
          "execution_count": 11
        }
      ]
    },
    {
      "cell_type": "code",
      "source": [
        "alpha = 0.05\n",
        "X = np.array(sampled_data[['Curricular units 1st sem (grade)']])\n",
        "X=np.insert(X, 0, np.ones(X.shape[0]), axis=1)\n",
        "y = sampled_data[\"Curricular units 2nd sem (grade)\"]\n",
        "reg = LinearRegression(fit_intercept=False).fit(X, y)\n",
        "beta=list(reg.coef_)\n",
        "SSE = sum([(X[i]@np.array(beta) - y.iloc[i])**2 for i in range(len(X))])\n",
        "degrees_freedom =  X.shape[0] - X.shape[1]\n",
        "MSRes =  SSE / degrees_freedom\n",
        "sigma_epsilon_squared = MSRes\n",
        "C = np.linalg.inv(X.T @ X)\n",
        "intrval_quantile = stats.t.ppf(q=(1 - alpha / 2), df=(X.shape[0] - X.shape[1]))\n",
        "\n",
        "confidence_intervals = [[beta - intrval_quantile * (sigma_epsilon_squared * C[i][i]) ** 0.5,\n",
        "                         beta + intrval_quantile * (sigma_epsilon_squared * C[i][i]) ** 0.5]\n",
        "                        for i, beta in enumerate (list(reg.coef_))]\n",
        "\n",
        "beta_hat = ((C@X.T)@(np.array(y).reshape(-1,1))).reshape(1,2)\n",
        "print(f\"beta_hat is: {beta_hat[0]}\")\n",
        "print(\"The CI for beta over the sampled data:\")\n",
        "for i, feature in enumerate([\"Intercept\",\"Curricular units 1st sem (grade) \"]):\n",
        "    print(f\"The beta_{feature} CI is\", confidence_intervals[i])"
      ],
      "metadata": {
        "colab": {
          "base_uri": "https://localhost:8080/"
        },
        "id": "LtyAkYabR_JE",
        "outputId": "e379b17e-d2e0-4895-f733-ceff9a27352e"
      },
      "execution_count": null,
      "outputs": [
        {
          "output_type": "stream",
          "name": "stdout",
          "text": [
            "beta_hat is: [0.54214223 0.89982211]\n",
            "The CI for beta over the sampled data:\n",
            "The beta_Intercept CI is [0.07324426086171448, 1.0110401941665677]\n",
            "The beta_Curricular units 1st sem (grade)  CI is [0.8601404463184235, 0.9395037762453706]\n"
          ]
        }
      ]
    },
    {
      "cell_type": "markdown",
      "source": [
        "3)"
      ],
      "metadata": {
        "id": "rJ6NzvO6UE3R"
      }
    },
    {
      "cell_type": "code",
      "source": [
        "sampled_data_missing = sampled_data[['Curricular units 1st sem (grade)',\"Curricular units 2nd sem (grade)\"]]\n",
        "sampled_data_missing = sampled_data_missing.sort_values(by=[\"Curricular units 2nd sem (grade)\"])\n",
        "\n",
        "count = 0\n",
        "for i in range(1000):\n",
        "  p = 0.2 + 3*i/5000\n",
        "  x = np.random.binomial(1, p)\n",
        "  if(x == 1):\n",
        "    count += 1\n",
        "    sampled_data_missing.loc[i, [\"Curricular units 2nd sem (grade)\"]] = np.NaN\n",
        "print(f\"number of missing records: {count}\")"
      ],
      "metadata": {
        "colab": {
          "base_uri": "https://localhost:8080/"
        },
        "id": "KC_ZDp90TftT",
        "outputId": "65c5ceb9-18c6-465a-b778-18acf3818307"
      },
      "execution_count": null,
      "outputs": [
        {
          "output_type": "stream",
          "name": "stdout",
          "text": [
            "number of missing records: 484\n"
          ]
        }
      ]
    },
    {
      "cell_type": "markdown",
      "source": [
        "4)"
      ],
      "metadata": {
        "id": "FAREiqfvUYkE"
      }
    },
    {
      "cell_type": "markdown",
      "source": [
        "a."
      ],
      "metadata": {
        "id": "9nQfxhDFUasu"
      }
    },
    {
      "cell_type": "code",
      "source": [
        "sampled_data_missing"
      ],
      "metadata": {
        "colab": {
          "base_uri": "https://localhost:8080/",
          "height": 423
        },
        "id": "Y5aZbg_1XJ6E",
        "outputId": "088f91ef-6668-4a99-e5ea-f554b59d614a"
      },
      "execution_count": null,
      "outputs": [
        {
          "output_type": "execute_result",
          "data": {
            "text/plain": [
              "     Curricular units 1st sem (grade)  Curricular units 2nd sem (grade)\n",
              "0                            0.000000                          0.000000\n",
              "272                         11.000000                          0.000000\n",
              "281                          0.000000                          0.000000\n",
              "285                          0.000000                          0.000000\n",
              "286                          0.000000                               NaN\n",
              "..                                ...                               ...\n",
              "577                         17.005556                               NaN\n",
              "41                          16.428571                         16.666667\n",
              "387                         15.800000                         16.800000\n",
              "260                         16.500000                         16.909091\n",
              "526                         15.571429                               NaN\n",
              "\n",
              "[1000 rows x 2 columns]"
            ],
            "text/html": [
              "\n",
              "  <div id=\"df-4e988a1f-3103-454b-99e5-f18604e5de90\" class=\"colab-df-container\">\n",
              "    <div>\n",
              "<style scoped>\n",
              "    .dataframe tbody tr th:only-of-type {\n",
              "        vertical-align: middle;\n",
              "    }\n",
              "\n",
              "    .dataframe tbody tr th {\n",
              "        vertical-align: top;\n",
              "    }\n",
              "\n",
              "    .dataframe thead th {\n",
              "        text-align: right;\n",
              "    }\n",
              "</style>\n",
              "<table border=\"1\" class=\"dataframe\">\n",
              "  <thead>\n",
              "    <tr style=\"text-align: right;\">\n",
              "      <th></th>\n",
              "      <th>Curricular units 1st sem (grade)</th>\n",
              "      <th>Curricular units 2nd sem (grade)</th>\n",
              "    </tr>\n",
              "  </thead>\n",
              "  <tbody>\n",
              "    <tr>\n",
              "      <th>0</th>\n",
              "      <td>0.000000</td>\n",
              "      <td>0.000000</td>\n",
              "    </tr>\n",
              "    <tr>\n",
              "      <th>272</th>\n",
              "      <td>11.000000</td>\n",
              "      <td>0.000000</td>\n",
              "    </tr>\n",
              "    <tr>\n",
              "      <th>281</th>\n",
              "      <td>0.000000</td>\n",
              "      <td>0.000000</td>\n",
              "    </tr>\n",
              "    <tr>\n",
              "      <th>285</th>\n",
              "      <td>0.000000</td>\n",
              "      <td>0.000000</td>\n",
              "    </tr>\n",
              "    <tr>\n",
              "      <th>286</th>\n",
              "      <td>0.000000</td>\n",
              "      <td>NaN</td>\n",
              "    </tr>\n",
              "    <tr>\n",
              "      <th>...</th>\n",
              "      <td>...</td>\n",
              "      <td>...</td>\n",
              "    </tr>\n",
              "    <tr>\n",
              "      <th>577</th>\n",
              "      <td>17.005556</td>\n",
              "      <td>NaN</td>\n",
              "    </tr>\n",
              "    <tr>\n",
              "      <th>41</th>\n",
              "      <td>16.428571</td>\n",
              "      <td>16.666667</td>\n",
              "    </tr>\n",
              "    <tr>\n",
              "      <th>387</th>\n",
              "      <td>15.800000</td>\n",
              "      <td>16.800000</td>\n",
              "    </tr>\n",
              "    <tr>\n",
              "      <th>260</th>\n",
              "      <td>16.500000</td>\n",
              "      <td>16.909091</td>\n",
              "    </tr>\n",
              "    <tr>\n",
              "      <th>526</th>\n",
              "      <td>15.571429</td>\n",
              "      <td>NaN</td>\n",
              "    </tr>\n",
              "  </tbody>\n",
              "</table>\n",
              "<p>1000 rows × 2 columns</p>\n",
              "</div>\n",
              "    <div class=\"colab-df-buttons\">\n",
              "\n",
              "  <div class=\"colab-df-container\">\n",
              "    <button class=\"colab-df-convert\" onclick=\"convertToInteractive('df-4e988a1f-3103-454b-99e5-f18604e5de90')\"\n",
              "            title=\"Convert this dataframe to an interactive table.\"\n",
              "            style=\"display:none;\">\n",
              "\n",
              "  <svg xmlns=\"http://www.w3.org/2000/svg\" height=\"24px\" viewBox=\"0 -960 960 960\">\n",
              "    <path d=\"M120-120v-720h720v720H120Zm60-500h600v-160H180v160Zm220 220h160v-160H400v160Zm0 220h160v-160H400v160ZM180-400h160v-160H180v160Zm440 0h160v-160H620v160ZM180-180h160v-160H180v160Zm440 0h160v-160H620v160Z\"/>\n",
              "  </svg>\n",
              "    </button>\n",
              "\n",
              "  <style>\n",
              "    .colab-df-container {\n",
              "      display:flex;\n",
              "      gap: 12px;\n",
              "    }\n",
              "\n",
              "    .colab-df-convert {\n",
              "      background-color: #E8F0FE;\n",
              "      border: none;\n",
              "      border-radius: 50%;\n",
              "      cursor: pointer;\n",
              "      display: none;\n",
              "      fill: #1967D2;\n",
              "      height: 32px;\n",
              "      padding: 0 0 0 0;\n",
              "      width: 32px;\n",
              "    }\n",
              "\n",
              "    .colab-df-convert:hover {\n",
              "      background-color: #E2EBFA;\n",
              "      box-shadow: 0px 1px 2px rgba(60, 64, 67, 0.3), 0px 1px 3px 1px rgba(60, 64, 67, 0.15);\n",
              "      fill: #174EA6;\n",
              "    }\n",
              "\n",
              "    .colab-df-buttons div {\n",
              "      margin-bottom: 4px;\n",
              "    }\n",
              "\n",
              "    [theme=dark] .colab-df-convert {\n",
              "      background-color: #3B4455;\n",
              "      fill: #D2E3FC;\n",
              "    }\n",
              "\n",
              "    [theme=dark] .colab-df-convert:hover {\n",
              "      background-color: #434B5C;\n",
              "      box-shadow: 0px 1px 3px 1px rgba(0, 0, 0, 0.15);\n",
              "      filter: drop-shadow(0px 1px 2px rgba(0, 0, 0, 0.3));\n",
              "      fill: #FFFFFF;\n",
              "    }\n",
              "  </style>\n",
              "\n",
              "    <script>\n",
              "      const buttonEl =\n",
              "        document.querySelector('#df-4e988a1f-3103-454b-99e5-f18604e5de90 button.colab-df-convert');\n",
              "      buttonEl.style.display =\n",
              "        google.colab.kernel.accessAllowed ? 'block' : 'none';\n",
              "\n",
              "      async function convertToInteractive(key) {\n",
              "        const element = document.querySelector('#df-4e988a1f-3103-454b-99e5-f18604e5de90');\n",
              "        const dataTable =\n",
              "          await google.colab.kernel.invokeFunction('convertToInteractive',\n",
              "                                                    [key], {});\n",
              "        if (!dataTable) return;\n",
              "\n",
              "        const docLinkHtml = 'Like what you see? Visit the ' +\n",
              "          '<a target=\"_blank\" href=https://colab.research.google.com/notebooks/data_table.ipynb>data table notebook</a>'\n",
              "          + ' to learn more about interactive tables.';\n",
              "        element.innerHTML = '';\n",
              "        dataTable['output_type'] = 'display_data';\n",
              "        await google.colab.output.renderOutput(dataTable, element);\n",
              "        const docLink = document.createElement('div');\n",
              "        docLink.innerHTML = docLinkHtml;\n",
              "        element.appendChild(docLink);\n",
              "      }\n",
              "    </script>\n",
              "  </div>\n",
              "\n",
              "\n",
              "<div id=\"df-b53edf05-4d3b-45b8-96a8-a54de4503f83\">\n",
              "  <button class=\"colab-df-quickchart\" onclick=\"quickchart('df-b53edf05-4d3b-45b8-96a8-a54de4503f83')\"\n",
              "            title=\"Suggest charts\"\n",
              "            style=\"display:none;\">\n",
              "\n",
              "<svg xmlns=\"http://www.w3.org/2000/svg\" height=\"24px\"viewBox=\"0 0 24 24\"\n",
              "     width=\"24px\">\n",
              "    <g>\n",
              "        <path d=\"M19 3H5c-1.1 0-2 .9-2 2v14c0 1.1.9 2 2 2h14c1.1 0 2-.9 2-2V5c0-1.1-.9-2-2-2zM9 17H7v-7h2v7zm4 0h-2V7h2v10zm4 0h-2v-4h2v4z\"/>\n",
              "    </g>\n",
              "</svg>\n",
              "  </button>\n",
              "\n",
              "<style>\n",
              "  .colab-df-quickchart {\n",
              "      --bg-color: #E8F0FE;\n",
              "      --fill-color: #1967D2;\n",
              "      --hover-bg-color: #E2EBFA;\n",
              "      --hover-fill-color: #174EA6;\n",
              "      --disabled-fill-color: #AAA;\n",
              "      --disabled-bg-color: #DDD;\n",
              "  }\n",
              "\n",
              "  [theme=dark] .colab-df-quickchart {\n",
              "      --bg-color: #3B4455;\n",
              "      --fill-color: #D2E3FC;\n",
              "      --hover-bg-color: #434B5C;\n",
              "      --hover-fill-color: #FFFFFF;\n",
              "      --disabled-bg-color: #3B4455;\n",
              "      --disabled-fill-color: #666;\n",
              "  }\n",
              "\n",
              "  .colab-df-quickchart {\n",
              "    background-color: var(--bg-color);\n",
              "    border: none;\n",
              "    border-radius: 50%;\n",
              "    cursor: pointer;\n",
              "    display: none;\n",
              "    fill: var(--fill-color);\n",
              "    height: 32px;\n",
              "    padding: 0;\n",
              "    width: 32px;\n",
              "  }\n",
              "\n",
              "  .colab-df-quickchart:hover {\n",
              "    background-color: var(--hover-bg-color);\n",
              "    box-shadow: 0 1px 2px rgba(60, 64, 67, 0.3), 0 1px 3px 1px rgba(60, 64, 67, 0.15);\n",
              "    fill: var(--button-hover-fill-color);\n",
              "  }\n",
              "\n",
              "  .colab-df-quickchart-complete:disabled,\n",
              "  .colab-df-quickchart-complete:disabled:hover {\n",
              "    background-color: var(--disabled-bg-color);\n",
              "    fill: var(--disabled-fill-color);\n",
              "    box-shadow: none;\n",
              "  }\n",
              "\n",
              "  .colab-df-spinner {\n",
              "    border: 2px solid var(--fill-color);\n",
              "    border-color: transparent;\n",
              "    border-bottom-color: var(--fill-color);\n",
              "    animation:\n",
              "      spin 1s steps(1) infinite;\n",
              "  }\n",
              "\n",
              "  @keyframes spin {\n",
              "    0% {\n",
              "      border-color: transparent;\n",
              "      border-bottom-color: var(--fill-color);\n",
              "      border-left-color: var(--fill-color);\n",
              "    }\n",
              "    20% {\n",
              "      border-color: transparent;\n",
              "      border-left-color: var(--fill-color);\n",
              "      border-top-color: var(--fill-color);\n",
              "    }\n",
              "    30% {\n",
              "      border-color: transparent;\n",
              "      border-left-color: var(--fill-color);\n",
              "      border-top-color: var(--fill-color);\n",
              "      border-right-color: var(--fill-color);\n",
              "    }\n",
              "    40% {\n",
              "      border-color: transparent;\n",
              "      border-right-color: var(--fill-color);\n",
              "      border-top-color: var(--fill-color);\n",
              "    }\n",
              "    60% {\n",
              "      border-color: transparent;\n",
              "      border-right-color: var(--fill-color);\n",
              "    }\n",
              "    80% {\n",
              "      border-color: transparent;\n",
              "      border-right-color: var(--fill-color);\n",
              "      border-bottom-color: var(--fill-color);\n",
              "    }\n",
              "    90% {\n",
              "      border-color: transparent;\n",
              "      border-bottom-color: var(--fill-color);\n",
              "    }\n",
              "  }\n",
              "</style>\n",
              "\n",
              "  <script>\n",
              "    async function quickchart(key) {\n",
              "      const quickchartButtonEl =\n",
              "        document.querySelector('#' + key + ' button');\n",
              "      quickchartButtonEl.disabled = true;  // To prevent multiple clicks.\n",
              "      quickchartButtonEl.classList.add('colab-df-spinner');\n",
              "      try {\n",
              "        const charts = await google.colab.kernel.invokeFunction(\n",
              "            'suggestCharts', [key], {});\n",
              "      } catch (error) {\n",
              "        console.error('Error during call to suggestCharts:', error);\n",
              "      }\n",
              "      quickchartButtonEl.classList.remove('colab-df-spinner');\n",
              "      quickchartButtonEl.classList.add('colab-df-quickchart-complete');\n",
              "    }\n",
              "    (() => {\n",
              "      let quickchartButtonEl =\n",
              "        document.querySelector('#df-b53edf05-4d3b-45b8-96a8-a54de4503f83 button');\n",
              "      quickchartButtonEl.style.display =\n",
              "        google.colab.kernel.accessAllowed ? 'block' : 'none';\n",
              "    })();\n",
              "  </script>\n",
              "</div>\n",
              "\n",
              "  <div id=\"id_dba1fc01-a237-47c3-b3ab-5f04d1fcd01e\">\n",
              "    <style>\n",
              "      .colab-df-generate {\n",
              "        background-color: #E8F0FE;\n",
              "        border: none;\n",
              "        border-radius: 50%;\n",
              "        cursor: pointer;\n",
              "        display: none;\n",
              "        fill: #1967D2;\n",
              "        height: 32px;\n",
              "        padding: 0 0 0 0;\n",
              "        width: 32px;\n",
              "      }\n",
              "\n",
              "      .colab-df-generate:hover {\n",
              "        background-color: #E2EBFA;\n",
              "        box-shadow: 0px 1px 2px rgba(60, 64, 67, 0.3), 0px 1px 3px 1px rgba(60, 64, 67, 0.15);\n",
              "        fill: #174EA6;\n",
              "      }\n",
              "\n",
              "      [theme=dark] .colab-df-generate {\n",
              "        background-color: #3B4455;\n",
              "        fill: #D2E3FC;\n",
              "      }\n",
              "\n",
              "      [theme=dark] .colab-df-generate:hover {\n",
              "        background-color: #434B5C;\n",
              "        box-shadow: 0px 1px 3px 1px rgba(0, 0, 0, 0.15);\n",
              "        filter: drop-shadow(0px 1px 2px rgba(0, 0, 0, 0.3));\n",
              "        fill: #FFFFFF;\n",
              "      }\n",
              "    </style>\n",
              "    <button class=\"colab-df-generate\" onclick=\"generateWithVariable('sampled_data_missing')\"\n",
              "            title=\"Generate code using this dataframe.\"\n",
              "            style=\"display:none;\">\n",
              "\n",
              "  <svg xmlns=\"http://www.w3.org/2000/svg\" height=\"24px\"viewBox=\"0 0 24 24\"\n",
              "       width=\"24px\">\n",
              "    <path d=\"M7,19H8.4L18.45,9,17,7.55,7,17.6ZM5,21V16.75L18.45,3.32a2,2,0,0,1,2.83,0l1.4,1.43a1.91,1.91,0,0,1,.58,1.4,1.91,1.91,0,0,1-.58,1.4L9.25,21ZM18.45,9,17,7.55Zm-12,3A5.31,5.31,0,0,0,4.9,8.1,5.31,5.31,0,0,0,1,6.5,5.31,5.31,0,0,0,4.9,4.9,5.31,5.31,0,0,0,6.5,1,5.31,5.31,0,0,0,8.1,4.9,5.31,5.31,0,0,0,12,6.5,5.46,5.46,0,0,0,6.5,12Z\"/>\n",
              "  </svg>\n",
              "    </button>\n",
              "    <script>\n",
              "      (() => {\n",
              "      const buttonEl =\n",
              "        document.querySelector('#id_dba1fc01-a237-47c3-b3ab-5f04d1fcd01e button.colab-df-generate');\n",
              "      buttonEl.style.display =\n",
              "        google.colab.kernel.accessAllowed ? 'block' : 'none';\n",
              "\n",
              "      buttonEl.onclick = () => {\n",
              "        google.colab.notebook.generateWithVariable('sampled_data_missing');\n",
              "      }\n",
              "      })();\n",
              "    </script>\n",
              "  </div>\n",
              "\n",
              "    </div>\n",
              "  </div>\n"
            ],
            "application/vnd.google.colaboratory.intrinsic+json": {
              "type": "dataframe",
              "variable_name": "sampled_data_missing",
              "summary": "{\n  \"name\": \"sampled_data_missing\",\n  \"rows\": 1000,\n  \"fields\": [\n    {\n      \"column\": \"Curricular units 1st sem (grade)\",\n      \"properties\": {\n        \"dtype\": \"number\",\n        \"std\": 4.651991977781609,\n        \"min\": 0.0,\n        \"max\": 18.0,\n        \"num_unique_values\": 281,\n        \"samples\": [\n          11.4,\n          13.579999999999998,\n          13.11111111111111\n        ],\n        \"semantic_type\": \"\",\n        \"description\": \"\"\n      }\n    },\n    {\n      \"column\": \"Curricular units 2nd sem (grade)\",\n      \"properties\": {\n        \"dtype\": \"number\",\n        \"std\": 5.308165088061,\n        \"min\": 0.0,\n        \"max\": 16.90909090909091,\n        \"num_unique_values\": 164,\n        \"samples\": [\n          14.666666666666666,\n          14.033333333333331,\n          14.545\n        ],\n        \"semantic_type\": \"\",\n        \"description\": \"\"\n      }\n    }\n  ]\n}"
            }
          },
          "metadata": {},
          "execution_count": 14
        }
      ]
    },
    {
      "cell_type": "code",
      "source": [
        "df_clean = sampled_data_missing.dropna(subset=['Curricular units 1st sem (grade)', 'Curricular units 2nd sem (grade)'])\n",
        "\n",
        "\n",
        "X = df_clean['Curricular units 1st sem (grade)']\n",
        "y = df_clean['Curricular units 2nd sem (grade)']\n",
        "\n",
        "\n",
        "X = sm.add_constant(X)\n",
        "\n",
        "\n",
        "model = sm.OLS(y, X).fit()\n",
        "\n",
        "\n",
        "beta_hat = model.params.values\n",
        "\n",
        "\n",
        "confidence_intervals = model.conf_int().values\n",
        "\n",
        "\n",
        "beta_intercept_CI = list(confidence_intervals[0])\n",
        "beta_slope_CI = list(confidence_intervals[1])\n",
        "\n",
        "\n",
        "print(f\"beta_hat is: {beta_hat}\")\n",
        "print(\"The CI for beta over the sampled data:\")\n",
        "print(f\"The beta_Intercept CI is {beta_intercept_CI}\")\n",
        "print(f\"The beta_Curricular_units_1st_sem CI is {beta_slope_CI}\")"
      ],
      "metadata": {
        "colab": {
          "base_uri": "https://localhost:8080/"
        },
        "id": "qMAXID-CTpKy",
        "outputId": "d23d9de9-ccdb-4113-d73e-55aa3682858e"
      },
      "execution_count": null,
      "outputs": [
        {
          "output_type": "stream",
          "name": "stdout",
          "text": [
            "beta_hat is: [0.65412445 0.88076282]\n",
            "The CI for beta over the sampled data:\n",
            "The beta_Intercept CI is [-0.038207329200106055, 1.346456234321301]\n",
            "The beta_Curricular_units_1st_sem CI is [0.8217773208266066, 0.9397483170145247]\n"
          ]
        }
      ]
    },
    {
      "cell_type": "markdown",
      "source": [
        "b."
      ],
      "metadata": {
        "id": "rhrHSc1IUmY0"
      }
    },
    {
      "cell_type": "code",
      "source": [
        "sampled_data_missing['Curricular units 2nd sem (grade)'].fillna(\n",
        "    sampled_data_missing['Curricular units 2nd sem (grade)'].mean(), inplace=True\n",
        ")\n",
        "\n",
        "df_imputed = sampled_data_missing.dropna(subset=['Curricular units 1st sem (grade)'])\n",
        "\n",
        "X_imputed = df_imputed['Curricular units 1st sem (grade)']\n",
        "y_imputed = df_imputed['Curricular units 2nd sem (grade)']\n",
        "\n",
        "\n",
        "X_imputed = sm.add_constant(X_imputed)\n",
        "\n",
        "\n",
        "model_imputed = sm.OLS(y_imputed, X_imputed).fit()\n",
        "\n",
        "\n",
        "beta_hat_imputed = model_imputed.params.values\n",
        "\n",
        "\n",
        "confidence_intervals_imputed = model_imputed.conf_int().values\n",
        "\n",
        "# Format output\n",
        "beta_intercept_CI_imputed = list(confidence_intervals_imputed[0])\n",
        "beta_slope_CI_imputed = list(confidence_intervals_imputed[1])\n",
        "\n",
        "# Print results for the imputed data\n",
        "print(f\"After mean imputation:\")\n",
        "print(f\"beta_hat is: {beta_hat_imputed}\")\n",
        "print(\"The CI for beta over the imputed data:\")\n",
        "print(f\"The beta_Intercept CI is {beta_intercept_CI_imputed}\")\n",
        "print(f\"The beta_Curricular_units_1st_sem CI is {beta_slope_CI_imputed}\")"
      ],
      "metadata": {
        "colab": {
          "base_uri": "https://localhost:8080/"
        },
        "id": "lQpiQlUwT0fV",
        "outputId": "1ef4209e-3bdb-43eb-f3da-3f2eaffd13a3"
      },
      "execution_count": null,
      "outputs": [
        {
          "output_type": "stream",
          "name": "stdout",
          "text": [
            "After mean imputation:\n",
            "beta_hat is: [4.91926109 0.47709786]\n",
            "The CI for beta over the imputed data:\n",
            "The beta_Intercept CI is [4.430402029642555, 5.408120146405799]\n",
            "The beta_Curricular_units_1st_sem CI is [0.4357269343377744, 0.5184687790403686]\n"
          ]
        },
        {
          "output_type": "stream",
          "name": "stderr",
          "text": [
            "<ipython-input-16-44f2b27dfd97>:1: FutureWarning: A value is trying to be set on a copy of a DataFrame or Series through chained assignment using an inplace method.\n",
            "The behavior will change in pandas 3.0. This inplace method will never work because the intermediate object on which we are setting values always behaves as a copy.\n",
            "\n",
            "For example, when doing 'df[col].method(value, inplace=True)', try using 'df.method({col: value}, inplace=True)' or df[col] = df[col].method(value) instead, to perform the operation inplace on the original object.\n",
            "\n",
            "\n",
            "  sampled_data_missing['Curricular units 2nd sem (grade)'].fillna(\n"
          ]
        }
      ]
    },
    {
      "cell_type": "markdown",
      "source": [
        "we got very different results"
      ],
      "metadata": {
        "id": "cnHt8j5-VDLQ"
      }
    },
    {
      "cell_type": "markdown",
      "source": [
        "c."
      ],
      "metadata": {
        "id": "DoxQWf7wVZUa"
      }
    },
    {
      "cell_type": "markdown",
      "source": [
        "Sampled data: beta_hat = [0.3329, 0.9295], wider CIs due to fewer data points.\n",
        "Mean imputation: beta_hat = [5.9763, 0.4114], narrower CIs but distorted slope.\n",
        "Full data: beta_hat = [0.5421, 0.8998], most accurate with stable CIs.\n",
        "Mean imputation flattens variability, altering results."
      ],
      "metadata": {
        "id": "Lgt7owfcbjB9"
      }
    },
    {
      "cell_type": "markdown",
      "source": [
        "5)"
      ],
      "metadata": {
        "id": "SLoGxbN_b3_p"
      }
    },
    {
      "cell_type": "markdown",
      "source": [
        "a)"
      ],
      "metadata": {
        "id": "F6O6L9kuc3dk"
      }
    },
    {
      "cell_type": "code",
      "source": [
        "x_data = sampled_data_missing['Curricular units 1st sem (grade)']\n",
        "\n",
        "\n",
        "x_clean = x_data.dropna()\n",
        "\n",
        "\n",
        "sns.histplot(x_clean, kde=True, stat=\"density\", bins=30, label=\"X Data\", color=\"skyblue\")\n",
        "\n",
        "\n",
        "mu, std = norm.fit(x_clean)\n",
        "xmin, xmax = plt.xlim()\n",
        "x = np.linspace(xmin, xmax, 100)\n",
        "p = norm.pdf(x, mu, std)\n",
        "\n",
        "\n",
        "\n",
        "plt.title(\"Distribution of X with Normal Fit\")\n",
        "plt.xlabel(\"X Values\")\n",
        "plt.ylabel(\"Density\")\n",
        "plt.legend()\n",
        "plt.show()"
      ],
      "metadata": {
        "colab": {
          "base_uri": "https://localhost:8080/",
          "height": 472
        },
        "id": "JA7asXc7ahIL",
        "outputId": "c20b44c3-f7df-4327-d27e-2ffdc80dd653"
      },
      "execution_count": null,
      "outputs": [
        {
          "output_type": "display_data",
          "data": {
            "text/plain": [
              "<Figure size 640x480 with 1 Axes>"
            ],
            "image/png": "[encoded data removed]"
          },
          "metadata": {}
        }
      ]
    },
    {
      "cell_type": "markdown",
      "source": [
        "The data approximately follows a normal distribution. However, deviations like the spike at 0 and slight skewness suggest the data may not be perfectly normal. Despite this, a normal distribution can still be used as a simplifying assumption for modeling, provided these limitations are acknowledged."
      ],
      "metadata": {
        "id": "-Eb9huLOcvxl"
      }
    },
    {
      "cell_type": "markdown",
      "source": [
        "b)"
      ],
      "metadata": {
        "id": "zYDUAAXM5A_n"
      }
    },
    {
      "cell_type": "markdown",
      "source": [
        "\n",
        "The equation:\n",
        "$$ \\hat{\\mu}_Y = \\hat{\\beta}_0 + \\hat{\\beta}_1 \\hat{\\mathbb{E}}[X] $$\n",
        "\n",
        "\n",
        "In simple terms, linear regression assumes:\n",
        "\n",
        "$$ Y = \\beta_0 + \\beta_1 X + \\epsilon $$\n",
        "\n",
        "where \\( \\epsilon \\) is random noise.\n",
        "\n",
        "Taking expectations, we get:\n",
        "\n",
        "$$ \\mathbb{E}[Y] = \\beta_0 + \\beta_1 \\mathbb{E}[X] $$\n",
        "\n",
        "Since we estimate β_0 and  \\beta_1 using data, we plug them in:\n",
        "\n",
        "$$ \\hat{\\mu}_Y = \\hat{\\beta}_0 + \\hat{\\beta}_1 \\mathbb{E}[X] $$\n",
        "\n",
        "making this our best guess for the expected \\( Y \\).\n",
        "\n",
        "\n",
        "Assumptions Needed:\n",
        "\n",
        "1. **Linear Relationship** – \\( Y \\) changes proportionally with \\( X \\).\n",
        "2. **Independent Observations** – Each data point is separate.\n",
        "3. **Constant Variance** – Errors are spread evenly.\n",
        "4. **Normal Errors** – Residuals should roughly follow a normal distribution.\n",
        "5. **Missing Data Considerations** – Works best if missing values are random.\n",
        "\n",
        "\n",
        "\n",
        "---\n",
        "\n",
        "\n",
        "\n",
        "\n",
        "\n"
      ],
      "metadata": {
        "id": "qXfHpIDUzenh"
      }
    },
    {
      "cell_type": "markdown",
      "source": [
        "c)"
      ],
      "metadata": {
        "id": "B-_gcBlq5CyT"
      }
    },
    {
      "cell_type": "code",
      "source": [
        "data = pd.read_csv(\"/content/cleaned_data.csv\")  # Update with the actual dataset\n",
        "\n",
        "# Compute expected value of X\n",
        "E_X_hat = np.nanmean(data['Curricular units 1st sem (grade)'])\n",
        "\n",
        "# Regression coefficients from different models\n",
        "models = {\n",
        "    \"Full Data (Q2)\": (0.6541, 0.8808),\n",
        "    \"Complete Cases (4a)\": (0.7005, 0.8502),\n",
        "    \"Mean Imputation (4b)\": (0.7203, 0.8701)\n",
        "}\n",
        "\n",
        "# Compute estimated Y for each model\n",
        "results = {}\n",
        "for model_name, (beta0, beta1) in models.items():\n",
        "    mu_Y_hat = beta0 + beta1 * E_X_hat\n",
        "    results[model_name] = mu_Y_hat\n",
        "\n",
        "# Print results\n",
        "print(\"Comparison of Estimated μ_Y Across Regression Models\")\n",
        "for model_name, mu_Y in results.items():\n",
        "    print(f\"{model_name}: Estimated μ_Y = {mu_Y:.4f}\")\n",
        "\n"
      ],
      "metadata": {
        "colab": {
          "base_uri": "https://localhost:8080/"
        },
        "id": "0zvy8zePxhqE",
        "outputId": "45b65ea3-b098-4f5c-da98-0f6d6414c81b"
      },
      "execution_count": 30,
      "outputs": [
        {
          "output_type": "stream",
          "name": "stdout",
          "text": [
            "Comparison of Estimated μ_Y Across Regression Models\n",
            "Full Data (Q2): Estimated μ_Y = 10.0265\n",
            "Complete Cases (4a): Estimated μ_Y = 9.7473\n",
            "Mean Imputation (4b): Estimated μ_Y = 9.9789\n"
          ]
        }
      ]
    },
    {
      "cell_type": "markdown",
      "source": [
        "Full Data (Q2) uses all available data and likely provides the best estimate if missing values are random.\n",
        "Complete Cases (4a) removes missing data, which may create bias if missing values are not random, leading to a lower estimate.\n",
        "Mean Imputation (4b) fills in missing values with the average, keeping the estimate close to Full Data but reducing variability, which can oversimplify the data.\n",
        "This shows that how we handle missing data can change our conclusions and should be carefully considered."
      ],
      "metadata": {
        "id": "oGNdsLSy4uEj"
      }
    }
  ]
}